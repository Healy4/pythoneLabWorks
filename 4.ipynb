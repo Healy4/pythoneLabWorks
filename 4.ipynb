{
  "nbformat": 4,
  "nbformat_minor": 0,
  "metadata": {
    "colab": {
      "name": "firstPrakt.ipynb",
      "provenance": [],
      "collapsed_sections": [],
      "authorship_tag": "ABX9TyOqy2PK4blDFCtl+kO7W/lt",
      "include_colab_link": true
    },
    "kernelspec": {
      "name": "python3",
      "display_name": "Python 3"
    },
    "language_info": {
      "name": "python"
    }
  },
  "cells": [
    {
      "cell_type": "markdown",
      "metadata": {
        "id": "view-in-github",
        "colab_type": "text"
      },
      "source": [
        "<a href=\"https://colab.research.google.com/github/ExTimeGameing/pythonMIREA/blob/main/firstPrakt.ipynb\" target=\"_parent\"><img src=\"https://colab.research.google.com/assets/colab-badge.svg\" alt=\"Open In Colab\"/></a>"
      ]
    },
    {
      "cell_type": "code",
      "execution_count": null,
      "metadata": {
        "id": "dT2vW09m_-Ic"
      },
      "outputs": [],
      "source": [
        "# Задача №4\n",
        "x, y = 0, 0\n",
        "# Умножение на 12: 4 сложения\n",
        "x = int(input())\n",
        "y = x\n",
        "print('Умножение числа', x, 'на 12 равно', end = ' ')\n",
        "y += x # y = 2x0\n",
        "y += y # y = 4x0\n",
        "y = y + y + y # y = 12x0\n",
        "print(y)\n",
        "# Умножение на 16: 4 сложения\n",
        "x = int(input())\n",
        "y = x\n",
        "print('Умножение числа', x, 'на 16 равно', end = ' ')\n",
        "y += y # y = 2x0\n",
        "y += y # y = 4x0\n",
        "y += y # y = 8x0\n",
        "y += y # y = 16x0\n",
        "print(y)\n",
        "# Умножение на 15: 3 сложения и 2 вычитания\n",
        "x = int(input())\n",
        "print('Умножение числа', x, 'на 15 равно', end = ' ')\n",
        "y = x\n",
        "y += x # y = 2x0\n",
        "y += y # y = 4x0\n",
        "y += y # y = 8x0\n",
        "x -= y # y = 8x0, x = -7x0\n",
        "y -= x # y = 15x0\n",
        "print(y)\n",
        "# Умножение на 29: 6 сложений и 1 вычитание\n",
        "x = int(input())\n",
        "y = x\n",
        "print('Умножение числа', x, 'на 29 равно', end = ' ')\n",
        "y += x # y = 2x0\n",
        "x = y + x # x = 3x0\n",
        "y += y # y = 4x0\n",
        "y += y # y = 8x0\n",
        "y += y # y = 16x0\n",
        "y += y # y = 32x0\n",
        "y -= x # y = 29x0\n",
        "print(y)"
      ]
    },
    {
      "cell_type": "code",
      "source": [
        "#Задча №10\n",
        "def fast_mult(num1, num2):\n",
        "    sum = 0\n",
        "    while num1 > 0:\n",
        "        if (num1 % 2 != 0):\n",
        "          sum += num2\n",
        "        num1 = num1 >> 1\n",
        "        num2 = num2 << 1\n",
        "    return sum\n",
        "\n",
        "def fast_pow(num, degree):\n",
        "  sum = num\n",
        "  for i in range(1, degree):\n",
        "    sum = fast_mult(sum, num)\n",
        "  return sum\n",
        "\n",
        "print('Пример умножения\\n', fast_mult(int(input()), int(input())))\n",
        "print('Пример возведения в степень\\n', fast_pow(int(input()), int(input())))"
      ],
      "metadata": {
        "id": "0WpVIlCxAD7_"
      },
      "execution_count": null,
      "outputs": []
    },
    {
      "cell_type": "code",
      "source": [
        "#Задача №11\n",
        "def fast_mult_gen(num1):\n",
        "    print('def fast_mult_', num1,':', sep = '')\n",
        "    sum = 0\n",
        "    x = 1\n",
        "    print (' sum = 0')\n",
        "    while num1 > 0:\n",
        "        if (num1 % 2 != 0):\n",
        "          print(' sum += x # x0 *', x)\n",
        "        num1 = num1 >> 1\n",
        "        x *= 2\n",
        "        print(' x += x')\n",
        "    print('return sum')\n",
        "    \n",
        "fast_mult_gen(int(input()))\n"
      ],
      "metadata": {
        "id": "MSoIHI8lEKfk"
      },
      "execution_count": null,
      "outputs": []
    },
    {
      "cell_type": "code",
      "source": [
        "def script(check, x, y):\n",
        "    '''\n",
        "    КОД ПОВЕДЕНИЯ ПЕРСОНАЖА ИГРОКА\n",
        "    X, Y+1 - СТЕНА СНИЗУ\n",
        "    X, Y-1 - СТЕНА СВЕРХУ\n",
        "    X+1, Y - СТЕНА СПРАВА\n",
        "    X-1, Y - СТЕНА СЛЕВА\n",
        "    '''\n",
        "\n",
        "    if check(\"gold\", x, y) != 0: return \"take\"\n",
        "\n",
        "    if check(\"level\") == 1:\n",
        "        if check(\"gold\", x, y) == 0 and check(\"gold\", x, y+1) == 0: return \"right\"\n",
        "        if check(\"gold\", x, y+1) != 0: return \"down\"\n",
        "\n",
        "    if check(\"level\") == 2:\n",
        "        if check(\"gold\", x+1,y) != 0:  return \"right\"\n",
        "        if check(\"gold\", x+2, y) != 0: return \"right\"\n",
        "        if check(\"gold\", x, y+1) != 0: return \"down\"\n",
        "        if check(\"gold\", x+1, y) == 0: return \"up\"\n",
        "\n",
        "    if check(\"level\") == 3:\n",
        "        if check(\"wall\", x, y+1) == True and check(\"wall\", x-1, y) == False: return \"left\" #left\n",
        "        if check(\"wall\", x-1, y) == True and check(\"wall\", x, y-1) == False: return \"up\" #up\n",
        "        if check(\"wall\", x+1, y) == True and check(\"wall\", x, y+1) == False: return \"down\" #down\n",
        "        if check(\"wall\", x, y-1) == True and check(\"wall\", x+1, y) == False: return \"right\" #right\n",
        "        if check(\"wall\", x, y+1) == False and check(\"wall\", x+1, y) == False:\n",
        "            if check(\"wall\", x-1, y+1) == True:\n",
        "                return \"left\"\n",
        "            if check(\"wall\", x-1, y-1) == True:\n",
        "                return \"up\"\n",
        "            if check(\"wall\", x+1, y+1) == True:\n",
        "                return \"down\"\n",
        "            if check(\"wall\", x+1, y-1) == True:\n",
        "                return \"right\"\n",
        "\n",
        "    if check(\"level\") == 4:\n",
        "        if check(\"wall\", x, y - 1) == True and check(\"wall\", x + 1, y) == False: return \"right\"\n",
        "        if check(\"wall\", x - 1, y) == True and check(\"gold\", x + 6, y - 3) != 0 and check(\"wall\", x + 2, y) == True: return \"right\"\n",
        "        if check(\"gold\", x, y + 4) != 0 and check(\"wall\", x + 1, y + 4) == True: return \"down\"\n",
        "        if check(\"wall\", x + 1, y) == True and check(\"wall\", x, y + 1) == False: return \"down\"\n",
        "        if check(\"wall\", x - 1, y) == True and check(\"wall\", x, y - 1) == False: return \"up\"\n",
        "        if check(\"wall\", x, y + 1) == True and check(\"wall\", x - 1, y) == False and check(\"wall\", x + 1, y) == False and check(\"wall\", x, y - 2) == True: return \"up\"\n",
        "        if check(\"wall\", x, y + 1) == True and check(\"wall\", x - 1, y) == False: return \"left\"\n",
        "        if check(\"wall\", x, y + 1) == False and check(\"gold\", x + 1, y) == False:\n",
        "            if check(\"wall\", x + 1, y - 1) == True:\n",
        "                return \"right\"\n",
        "            if check(\"wall\", x + 1, y + 1) == True:\n",
        "                return \"down\"\n",
        "            if check(\"wall\", x - 1, y + 1) == True:\n",
        "                return \"left\"\n",
        "            if check(\"wall\", x - 1, y - 1) == True:\n",
        "                return \"up\"\n",
        "    return \"pass\"\n"
      ],
      "metadata": {
        "id": "-5WR9kAwRZ6X"
      },
      "execution_count": null,
      "outputs": []
    }
  ]
}
